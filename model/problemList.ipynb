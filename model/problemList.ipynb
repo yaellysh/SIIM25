{
  "nbformat": 4,
  "nbformat_minor": 0,
  "metadata": {
    "colab": {
      "provenance": [],
      "authorship_tag": "ABX9TyNvo7HbW3lLSGFb/6VjvGsi",
      "include_colab_link": true
    },
    "kernelspec": {
      "name": "python3",
      "display_name": "Python 3"
    },
    "language_info": {
      "name": "python"
    }
  },
  "cells": [
    {
      "cell_type": "markdown",
      "metadata": {
        "id": "view-in-github",
        "colab_type": "text"
      },
      "source": [
        "<a href=\"https://colab.research.google.com/github/yaellysh/SIIM25/blob/main/model/problemList.ipynb\" target=\"_parent\"><img src=\"https://colab.research.google.com/assets/colab-badge.svg\" alt=\"Open In Colab\"/></a>"
      ]
    },
    {
      "cell_type": "code",
      "execution_count": null,
      "metadata": {
        "id": "O2X72duOV8f1"
      },
      "outputs": [],
      "source": [
        "# creating Problem List to store in side car\n",
        "\n",
        "import requests\n",
        "import json\n",
        "\n",
        "# Setup\n",
        "headers = {\n",
        "    'Content-Type': 'application/json',\n",
        "    'apikey': '095852d6-543c-4e06-98f0-11ffe7ffc105'\n",
        "}\n",
        "base_url = \"https://hackathon.siim.org/fhir-r4\"\n",
        "\n",
        "# Load observation resources from file\n",
        "################ CHANGE THIS ITS BADDDDDDDD ###################################\n",
        "with open('/mnt/data/multuple_json_observations.txt', 'r') as f:\n",
        "    raw_data = f.read()\n",
        "###############################################################################\n",
        "\n",
        "# Parse multiple JSON objects from the file\n",
        "observations = json.loads(f\"[{raw_data.replace('},\\n{', '}},{{')}]\")  # Wrap in brackets & fix comma separation\n",
        "\n",
        "# Create entries for the FHIR List resource\n",
        "entries = [{\"item\": {\"reference\": f\"Observation/{obs['id']}\"}} for obs in observations]\n",
        "\n",
        "# Construct the List resource\n",
        "list_resource = {\n",
        "    \"resourceType\": \"List\",\n",
        "    \"status\": \"current\",\n",
        "    \"mode\": \"working\",\n",
        "    \"entry\": entries\n",
        "}\n",
        "\n",
        "# Push the List resource to the server\n",
        "response = requests.post(f\"{base_url}/List\", headers=headers, data=json.dumps(list_resource))\n",
        "\n",
        "# Print server response\n",
        "print(\"Status Code:\", response.status_code)\n",
        "print(\"Response:\", response.json())\n",
        "\n",
        "\n",
        "\n",
        "\n",
        "\n"
      ]
    }
  ]
}